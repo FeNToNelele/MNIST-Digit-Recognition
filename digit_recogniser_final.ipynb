{
  "nbformat": 4,
  "nbformat_minor": 0,
  "metadata": {
    "colab": {
      "name": "digit_recogniser_final",
      "provenance": [],
      "collapsed_sections": []
    },
    "kernelspec": {
      "name": "python3",
      "display_name": "Python 3"
    },
    "language_info": {
      "name": "python"
    }
  },
  "cells": [
    {
      "cell_type": "code",
      "execution_count": null,
      "metadata": {
        "id": "odHYeWJqQPBS"
      },
      "outputs": [],
      "source": [
        "import numpy as np\n",
        "import pandas as pd\n",
        "import io\n",
        "import os\n",
        "import cv2\n",
        "from matplotlib import pyplot as plt"
      ]
    },
    {
      "cell_type": "code",
      "source": [
        "def relu(x):\n",
        "    return(np.maximum(x, 0))"
      ],
      "metadata": {
        "id": "R3_i1eVQQSFB"
      },
      "execution_count": null,
      "outputs": []
    },
    {
      "cell_type": "code",
      "source": [
        "def derivative_relu(x):\n",
        "    return x > 0"
      ],
      "metadata": {
        "id": "BNEqNaElQUfg"
      },
      "execution_count": null,
      "outputs": []
    },
    {
      "cell_type": "code",
      "source": [
        "relu_graph = []\n",
        "for i in range (-100, 101):\n",
        "    relu_graph.append(relu(i))"
      ],
      "metadata": {
        "id": "SiEEFkdqQVbV"
      },
      "execution_count": null,
      "outputs": []
    },
    {
      "cell_type": "code",
      "source": [
        "plt.plot(relu_graph)\n",
        "plt.show()"
      ],
      "metadata": {
        "id": "0MTTdRlJQWwG",
        "colab": {
          "base_uri": "https://localhost:8080/",
          "height": 265
        },
        "outputId": "44412e40-5371-4736-dc36-ea57671353bd"
      },
      "execution_count": null,
      "outputs": [
        {
          "output_type": "display_data",
          "data": {
            "text/plain": [
              "<Figure size 432x288 with 1 Axes>"
            ],
            "image/png": "[encoded data removed]"
          },
          "metadata": {
            "needs_background": "light"
          }
        }
      ]
    },
    {
      "cell_type": "code",
      "source": [
        "relu_der_graph = []\n",
        "for i in range (-100, 101):\n",
        "    relu_der_graph.append(derivative_relu(i))"
      ],
      "metadata": {
        "id": "XOKjVcHtvIkW"
      },
      "execution_count": null,
      "outputs": []
    },
    {
      "cell_type": "code",
      "source": [
        "plt.plot(relu_der_graph)\n",
        "plt.show()"
      ],
      "metadata": {
        "colab": {
          "base_uri": "https://localhost:8080/",
          "height": 265
        },
        "id": "UTALGpWVvNai",
        "outputId": "ca6cedd6-2d65-4406-c8ec-af31de24874f"
      },
      "execution_count": null,
      "outputs": [
        {
          "output_type": "display_data",
          "data": {
            "text/plain": [
              "<Figure size 432x288 with 1 Axes>"
            ],
            "image/png": "[encoded data removed]"
          },
          "metadata": {
            "needs_background": "light"
          }
        }
      ]
    },
    {
      "cell_type": "code",
      "source": [
        "def sigmoid(x):\n",
        "    return 1.0 / (1.0 + np.exp(-x))"
      ],
      "metadata": {
        "id": "CImG_1VmQXvl"
      },
      "execution_count": null,
      "outputs": []
    },
    {
      "cell_type": "code",
      "source": [
        "def derivative_sigmoid(x):\n",
        "    return sigmoid(x) * (1.0 - sigmoid(x))"
      ],
      "metadata": {
        "id": "KZGC4ZuTQYiN"
      },
      "execution_count": null,
      "outputs": []
    },
    {
      "cell_type": "code",
      "source": [
        "sigmoid_graph = []\n",
        "i = -5\n",
        "while i <= 5:\n",
        "    sigmoid_graph.append(sigmoid(i))\n",
        "    i = i + 0.1"
      ],
      "metadata": {
        "id": "hOBle9pGQZb5"
      },
      "execution_count": null,
      "outputs": []
    },
    {
      "cell_type": "code",
      "source": [
        "plt.plot(sigmoid_graph)\n",
        "plt.show()"
      ],
      "metadata": {
        "id": "MzfN1uA-QaTA",
        "colab": {
          "base_uri": "https://localhost:8080/",
          "height": 265
        },
        "outputId": "65b4dc3a-1ba5-4bab-c260-78cd4c5e3f69"
      },
      "execution_count": null,
      "outputs": [
        {
          "output_type": "display_data",
          "data": {
            "text/plain": [
              "<Figure size 432x288 with 1 Axes>"
            ],
            "image/png": "[encoded data removed]"
          },
          "metadata": {
            "needs_background": "light"
          }
        }
      ]
    },
    {
      "cell_type": "code",
      "source": [
        "data_train = pd.read_csv('https://media.githubusercontent.com/media/FeNToNelele/MNIST-Digit-Recognition/main/mnist_data/mnist_train.csv')\n",
        "data_train = np.array(data_train)"
      ],
      "metadata": {
        "id": "DckVaD6ZQdJ-"
      },
      "execution_count": null,
      "outputs": []
    },
    {
      "cell_type": "code",
      "source": [
        "data_test = pd.read_csv('https://media.githubusercontent.com/media/FeNToNelele/MNIST-Digit-Recognition/main/mnist_data/mnist_test.csv')\n",
        "data_test = np.array(data_test)"
      ],
      "metadata": {
        "id": "0rrLwKOTXTJG"
      },
      "execution_count": null,
      "outputs": []
    },
    {
      "cell_type": "code",
      "source": [
        "np.random.shuffle(data_train)\n",
        "np.random.shuffle(data_test)"
      ],
      "metadata": {
        "id": "QGMQDF5iKubp"
      },
      "execution_count": null,
      "outputs": []
    },
    {
      "cell_type": "code",
      "source": [
        "def one_hot(Labels):  \n",
        "    one_hot_Labels = np.zeros((Labels.size, Labels.max() + 1))\n",
        "    for i in range(Labels.size):\n",
        "      one_hot_Labels[i,Labels[i]] = 1\n",
        "    one_hot_Labels = one_hot_Labels.T   \n",
        "    return one_hot_Labels"
      ],
      "metadata": {
        "id": "eCI-0dhLGQQG"
      },
      "execution_count": null,
      "outputs": []
    },
    {
      "cell_type": "code",
      "source": [
        "def normalize(dataset):\n",
        "    for i in range(dataset.shape[0]):\n",
        "        for j in range(dataset.shape[1]):\n",
        "            dataset[i, j] = dataset[i, j] / 255\n",
        "    return dataset"
      ],
      "metadata": {
        "id": "k21F88brFG9X"
      },
      "execution_count": null,
      "outputs": []
    },
    {
      "cell_type": "code",
      "source": [
        "data_train = data_train.T\n",
        "data_test = data_test.T"
      ],
      "metadata": {
        "id": "vLot9C74SVGg"
      },
      "execution_count": null,
      "outputs": []
    },
    {
      "cell_type": "code",
      "source": [
        "x_train = data_train[1:,:] / 255\n",
        "x_test = data_test[1:,:] / 255"
      ],
      "metadata": {
        "id": "jSpzUQ8qSgnC"
      },
      "execution_count": null,
      "outputs": []
    },
    {
      "cell_type": "code",
      "source": [
        "y_train = data_train[0,:]\n",
        "y_test = data_test[0,:]"
      ],
      "metadata": {
        "id": "QyA52_s2ScKF"
      },
      "execution_count": null,
      "outputs": []
    },
    {
      "cell_type": "code",
      "source": [
        "def init_weights():\n",
        "    w1 = np.random.rand(784, 10)\n",
        "    w2 = np.random.rand(10, 10)\n",
        "    w3 = np.random.rand(10, 10)\n",
        "    return w1, w2, w3"
      ],
      "metadata": {
        "id": "BPD0vYJ0Xfmo"
      },
      "execution_count": null,
      "outputs": []
    },
    {
      "cell_type": "code",
      "source": [
        "class Network:\n",
        "    def softmax(self, x):\n",
        "        return np.exp(x) / sum(np.exp(x))\n",
        "\n",
        "    def __init__(self, x_train, y_train, epochs, learning_rate):\n",
        "        self.input_layer = x_train\n",
        "        self.expected = y_train\n",
        "        self.epochs = epochs\n",
        "        self.learning_rate = learning_rate\n",
        "        self.accuracy = []\n",
        "        self.w1, self.w2 = self.init_weights()\n",
        "        self.b1, self.b2 = self.init_biases()\n",
        "        self.one_hot_y = one_hot(y_train)\n",
        "    \n",
        "    def init_biases(self):\n",
        "        b1 = np.random.rand(10,1) - 0.5\n",
        "        b2 = np.random.rand(10,1) - 0.5\n",
        "        return b1, b2\n",
        "\n",
        "    def init_weights(self):\n",
        "        w1 = np.random.rand(10, 784) - 0.5\n",
        "        w2 = np.random.rand(10, 10) - 0.5\n",
        "        return w1, w2\n",
        "\n",
        "    def feedforward(self):\n",
        "        \"\"\"for i in range(self.input_layer.shape[0]):\n",
        "          print(\"row: \"+str(i))\n",
        "          for j in range(self.input_layer.shape[1]):\n",
        "            if self.input_layer[i,j] > 0:\n",
        "              print(self.input_layer[i,j])\"\"\"\n",
        "        self.z1 = self.w1.dot(self.input_layer) + self.b1\n",
        "        self.a1 = relu(self.z1)\n",
        "        self.z2 = self.w2.dot(self.a1) + self.b2\n",
        "        self.a2 = self.softmax(self.z2)\n",
        "\n",
        "    def get_prediction_sample_data(self):\n",
        "        self.z1 = self.w1.dot(self.input_layer) + self.b1\n",
        "        self.a1 = relu(self.z1)\n",
        "        self.z2 = self.w2.dot(self.a1) + self.b2\n",
        "        self.a2 = self.softmax(self.z2)\n",
        "        return np.argmax(self.a2, axis = 0)\n",
        "\n",
        "    def backpropagation(self):\n",
        "        a2_error = self.a2 - self.one_hot_y\n",
        "        w2_error =  (1 / self.expected.shape[0]) * a2_error.dot(self.a1.T)\n",
        "        b2_error = (1 / self.expected.shape[0]) * np.sum(a2_error)\n",
        "\n",
        "        z1_error = self.w2.T.dot(a2_error) * derivative_relu(self.z1)\n",
        "        w1_error = (1 / self.expected.shape[0]) * z1_error.dot(self.input_layer.T)\n",
        "        b1_error = (1 / self.expected.shape[0]) * np.sum(z1_error)\n",
        "\n",
        "        self.w2 = self.w2 - self.learning_rate * w2_error\n",
        "        self.w1 = self.w1 - self.learning_rate * w1_error\n",
        "\n",
        "        self.b2 = self.b2 - self.learning_rate * b2_error\n",
        "        self.b1 = self.b1 - self.learning_rate * b1_error\n",
        "    \n",
        "    \n",
        "    def model_accuracy(self):\n",
        "        return np.count_nonzero(np.argmax(self.a2, axis=0) == self.expected) / self.expected.shape[0]\n",
        "    \n",
        "    def train_model(self):\n",
        "        for epoch in range(self.epochs):\n",
        "            self.feedforward()\n",
        "            self.backpropagation()\n",
        "            self.accuracy.append(self.model_accuracy())\n",
        "            #self.learning_rate = self.learning_rate * 0.99 #dinamikusan változtatható learning rate\n",
        "            if epoch % 20 == 0:\n",
        "                print(\"Epoch: {0}, accuracy: {1}\".format(epoch, self.accuracy[epoch]))\n",
        "\n",
        "    def test_network(self, x_test, y_test):\n",
        "        self.input_layer = x_test\n",
        "        self.expected = y_test\n",
        "        self.feedforward()\n",
        "        guess_accuracy = self.model_accuracy()\n",
        "\n",
        "        print(\"A hálózat pontossága: \"+str(guess_accuracy))"
      ],
      "metadata": {
        "id": "rT2TYaBbaBuR"
      },
      "execution_count": null,
      "outputs": []
    },
    {
      "cell_type": "code",
      "source": [
        "def plot_accuracy(accuracy):\n",
        "    plt.figure(dpi = 125)\n",
        "    plt.plot(accuracy)"
      ],
      "metadata": {
        "id": "FT3MxS28aG7t"
      },
      "execution_count": null,
      "outputs": []
    },
    {
      "cell_type": "code",
      "source": [
        "neuralNetwork = Network(x_train, y_train, 3000, 0.035)\n",
        "neuralNetwork.train_model()"
      ],
      "metadata": {
        "colab": {
          "base_uri": "https://localhost:8080/"
        },
        "id": "K-S-dSCtYKF0",
        "outputId": "a4bd2041-2f9c-4de7-a684-f80ce00939dd"
      },
      "execution_count": null,
      "outputs": [
        {
          "output_type": "stream",
          "name": "stdout",
          "text": [
            "Epoch: 0, accuracy: 0.07708333333333334\n",
            "Epoch: 20, accuracy: 0.18038333333333334\n",
            "Epoch: 40, accuracy: 0.26088333333333336\n",
            "Epoch: 60, accuracy: 0.32188333333333335\n",
            "Epoch: 80, accuracy: 0.3826\n",
            "Epoch: 100, accuracy: 0.43771666666666664\n",
            "Epoch: 120, accuracy: 0.4822166666666667\n",
            "Epoch: 140, accuracy: 0.5191\n",
            "Epoch: 160, accuracy: 0.5506\n",
            "Epoch: 180, accuracy: 0.5790666666666666\n",
            "Epoch: 200, accuracy: 0.6014666666666667\n",
            "Epoch: 220, accuracy: 0.6225166666666667\n",
            "Epoch: 240, accuracy: 0.6397333333333334\n",
            "Epoch: 260, accuracy: 0.6553\n",
            "Epoch: 280, accuracy: 0.6691\n",
            "Epoch: 300, accuracy: 0.6819\n",
            "Epoch: 320, accuracy: 0.6928166666666666\n",
            "Epoch: 340, accuracy: 0.7029\n",
            "Epoch: 360, accuracy: 0.7129666666666666\n",
            "Epoch: 380, accuracy: 0.7216666666666667\n",
            "Epoch: 400, accuracy: 0.72985\n",
            "Epoch: 420, accuracy: 0.7373333333333333\n",
            "Epoch: 440, accuracy: 0.7440833333333333\n",
            "Epoch: 460, accuracy: 0.7505\n",
            "Epoch: 480, accuracy: 0.7556\n",
            "Epoch: 500, accuracy: 0.76095\n",
            "Epoch: 520, accuracy: 0.7657333333333334\n",
            "Epoch: 540, accuracy: 0.7703166666666666\n",
            "Epoch: 560, accuracy: 0.77425\n",
            "Epoch: 580, accuracy: 0.7784333333333333\n",
            "Epoch: 600, accuracy: 0.7818833333333334\n",
            "Epoch: 620, accuracy: 0.7851833333333333\n",
            "Epoch: 640, accuracy: 0.7882833333333333\n",
            "Epoch: 660, accuracy: 0.7921\n",
            "Epoch: 680, accuracy: 0.7951166666666667\n",
            "Epoch: 700, accuracy: 0.79765\n",
            "Epoch: 720, accuracy: 0.8005\n",
            "Epoch: 740, accuracy: 0.8027666666666666\n",
            "Epoch: 760, accuracy: 0.8050333333333334\n",
            "Epoch: 780, accuracy: 0.8074166666666667\n",
            "Epoch: 800, accuracy: 0.8096833333333333\n",
            "Epoch: 820, accuracy: 0.8118833333333333\n",
            "Epoch: 840, accuracy: 0.8134666666666667\n",
            "Epoch: 860, accuracy: 0.8154\n",
            "Epoch: 880, accuracy: 0.8170333333333333\n",
            "Epoch: 900, accuracy: 0.81905\n",
            "Epoch: 920, accuracy: 0.8210333333333333\n",
            "Epoch: 940, accuracy: 0.8226\n",
            "Epoch: 960, accuracy: 0.8241833333333334\n",
            "Epoch: 980, accuracy: 0.8256166666666667\n",
            "Epoch: 1000, accuracy: 0.8270333333333333\n",
            "Epoch: 1020, accuracy: 0.82875\n",
            "Epoch: 1040, accuracy: 0.8299333333333333\n",
            "Epoch: 1060, accuracy: 0.8314833333333334\n",
            "Epoch: 1080, accuracy: 0.8323666666666667\n",
            "Epoch: 1100, accuracy: 0.8335\n",
            "Epoch: 1120, accuracy: 0.8346\n",
            "Epoch: 1140, accuracy: 0.8357333333333333\n",
            "Epoch: 1160, accuracy: 0.8368166666666667\n",
            "Epoch: 1180, accuracy: 0.8377\n",
            "Epoch: 1200, accuracy: 0.8388666666666666\n",
            "Epoch: 1220, accuracy: 0.8397833333333333\n",
            "Epoch: 1240, accuracy: 0.8406666666666667\n",
            "Epoch: 1260, accuracy: 0.8416166666666667\n",
            "Epoch: 1280, accuracy: 0.8424833333333334\n",
            "Epoch: 1300, accuracy: 0.84345\n",
            "Epoch: 1320, accuracy: 0.8443166666666667\n",
            "Epoch: 1340, accuracy: 0.8453\n",
            "Epoch: 1360, accuracy: 0.8461833333333333\n",
            "Epoch: 1380, accuracy: 0.84705\n",
            "Epoch: 1400, accuracy: 0.8478833333333333\n",
            "Epoch: 1420, accuracy: 0.8488166666666667\n",
            "Epoch: 1440, accuracy: 0.8495\n",
            "Epoch: 1460, accuracy: 0.85005\n",
            "Epoch: 1480, accuracy: 0.8506166666666667\n",
            "Epoch: 1500, accuracy: 0.8515666666666667\n",
            "Epoch: 1520, accuracy: 0.8523333333333334\n",
            "Epoch: 1540, accuracy: 0.85305\n",
            "Epoch: 1560, accuracy: 0.8535833333333334\n",
            "Epoch: 1580, accuracy: 0.85435\n",
            "Epoch: 1600, accuracy: 0.8549333333333333\n",
            "Epoch: 1620, accuracy: 0.8555833333333334\n",
            "Epoch: 1640, accuracy: 0.85645\n",
            "Epoch: 1660, accuracy: 0.857\n",
            "Epoch: 1680, accuracy: 0.8575833333333334\n",
            "Epoch: 1700, accuracy: 0.8581833333333333\n",
            "Epoch: 1720, accuracy: 0.8589333333333333\n",
            "Epoch: 1740, accuracy: 0.8595666666666667\n",
            "Epoch: 1760, accuracy: 0.86035\n",
            "Epoch: 1780, accuracy: 0.8607666666666667\n",
            "Epoch: 1800, accuracy: 0.8612666666666666\n",
            "Epoch: 1820, accuracy: 0.8617333333333334\n",
            "Epoch: 1840, accuracy: 0.8623666666666666\n",
            "Epoch: 1860, accuracy: 0.8628333333333333\n",
            "Epoch: 1880, accuracy: 0.8632666666666666\n",
            "Epoch: 1900, accuracy: 0.8636833333333334\n",
            "Epoch: 1920, accuracy: 0.8643666666666666\n",
            "Epoch: 1940, accuracy: 0.8649666666666667\n",
            "Epoch: 1960, accuracy: 0.8653333333333333\n",
            "Epoch: 1980, accuracy: 0.8657833333333333\n",
            "Epoch: 2000, accuracy: 0.8661833333333333\n",
            "Epoch: 2020, accuracy: 0.8664333333333334\n",
            "Epoch: 2040, accuracy: 0.8667\n",
            "Epoch: 2060, accuracy: 0.8670833333333333\n",
            "Epoch: 2080, accuracy: 0.8675833333333334\n",
            "Epoch: 2100, accuracy: 0.86805\n",
            "Epoch: 2120, accuracy: 0.86835\n",
            "Epoch: 2140, accuracy: 0.8688\n",
            "Epoch: 2160, accuracy: 0.8692666666666666\n",
            "Epoch: 2180, accuracy: 0.8694833333333334\n",
            "Epoch: 2200, accuracy: 0.8697\n",
            "Epoch: 2220, accuracy: 0.8699833333333333\n",
            "Epoch: 2240, accuracy: 0.87035\n",
            "Epoch: 2260, accuracy: 0.8707666666666667\n",
            "Epoch: 2280, accuracy: 0.8711\n",
            "Epoch: 2300, accuracy: 0.8714\n",
            "Epoch: 2320, accuracy: 0.8716333333333334\n",
            "Epoch: 2340, accuracy: 0.8718833333333333\n",
            "Epoch: 2360, accuracy: 0.8721666666666666\n",
            "Epoch: 2380, accuracy: 0.8725\n",
            "Epoch: 2400, accuracy: 0.8727833333333334\n",
            "Epoch: 2420, accuracy: 0.8729833333333333\n",
            "Epoch: 2440, accuracy: 0.87325\n",
            "Epoch: 2460, accuracy: 0.8735666666666667\n",
            "Epoch: 2480, accuracy: 0.874\n",
            "Epoch: 2500, accuracy: 0.87435\n",
            "Epoch: 2520, accuracy: 0.8746333333333334\n",
            "Epoch: 2540, accuracy: 0.8749833333333333\n",
            "Epoch: 2560, accuracy: 0.8752833333333333\n",
            "Epoch: 2580, accuracy: 0.8755166666666667\n",
            "Epoch: 2600, accuracy: 0.8758333333333334\n",
            "Epoch: 2620, accuracy: 0.87615\n",
            "Epoch: 2640, accuracy: 0.8765166666666667\n",
            "Epoch: 2660, accuracy: 0.8767166666666667\n",
            "Epoch: 2680, accuracy: 0.8768833333333333\n",
            "Epoch: 2700, accuracy: 0.8771166666666667\n",
            "Epoch: 2720, accuracy: 0.8773833333333333\n",
            "Epoch: 2740, accuracy: 0.8777166666666667\n",
            "Epoch: 2760, accuracy: 0.8778833333333333\n",
            "Epoch: 2780, accuracy: 0.8780833333333333\n",
            "Epoch: 2800, accuracy: 0.8783333333333333\n",
            "Epoch: 2820, accuracy: 0.8785666666666667\n",
            "Epoch: 2840, accuracy: 0.8788666666666667\n",
            "Epoch: 2860, accuracy: 0.87895\n",
            "Epoch: 2880, accuracy: 0.8792\n",
            "Epoch: 2900, accuracy: 0.8794333333333333\n",
            "Epoch: 2920, accuracy: 0.8796\n",
            "Epoch: 2940, accuracy: 0.8799166666666667\n",
            "Epoch: 2960, accuracy: 0.88005\n",
            "Epoch: 2980, accuracy: 0.88025\n"
          ]
        }
      ]
    },
    {
      "cell_type": "code",
      "source": [
        "plot_accuracy(neuralNetwork.accuracy)\n"
      ],
      "metadata": {
        "colab": {
          "base_uri": "https://localhost:8080/",
          "height": 449
        },
        "id": "EGCDdb2EaIvZ",
        "outputId": "919bd49b-058e-4a65-e1e1-6781d0a4d558"
      },
      "execution_count": null,
      "outputs": [
        {
          "output_type": "display_data",
          "data": {
            "text/plain": [
              "<Figure size 750x500 with 1 Axes>"
            ],
            "image/png": "[encoded data removed]"
          },
          "metadata": {
            "needs_background": "light"
          }
        }
      ]
    },
    {
      "cell_type": "code",
      "source": [
        "neuralNetwork.test_network(x_test, y_test)"
      ],
      "metadata": {
        "colab": {
          "base_uri": "https://localhost:8080/"
        },
        "id": "V5us_-xiY2tI",
        "outputId": "e008a1e3-27b4-408e-d8ec-e5aa4fd1c1d7"
      },
      "execution_count": null,
      "outputs": [
        {
          "output_type": "stream",
          "name": "stdout",
          "text": [
            "A hálózat pontossága: 0.8849\n"
          ]
        }
      ]
    },
    {
      "cell_type": "code",
      "source": [
        "import os\n",
        "os.system('curl -O https://raw.githubusercontent.com/FeNToNelele/MNIST-Digit-Recognition/main/samples/1.png')\n",
        "data=plt.imread('1.png')\n",
        "img = cv2.imread('1.png')"
      ],
      "metadata": {
        "id": "uCGqJLDkhohS"
      },
      "execution_count": null,
      "outputs": []
    },
    {
      "cell_type": "code",
      "source": [
        "plt.imshow(data)"
      ],
      "metadata": {
        "colab": {
          "base_uri": "https://localhost:8080/",
          "height": 283
        },
        "id": "0eP-U9lhh2nT",
        "outputId": "23cc810a-fd5d-451f-8e1a-43a000416671"
      },
      "execution_count": null,
      "outputs": [
        {
          "output_type": "execute_result",
          "data": {
            "text/plain": [
              "<matplotlib.image.AxesImage at 0x7f14c3dbb950>"
            ]
          },
          "metadata": {},
          "execution_count": 38
        },
        {
          "output_type": "display_data",
          "data": {
            "text/plain": [
              "<Figure size 432x288 with 1 Axes>"
            ],
            "image/png": "[encoded data removed]"
          },
          "metadata": {
            "needs_background": "light"
          }
        }
      ]
    },
    {
      "cell_type": "code",
      "source": [
        "def test_own_samples(img: np.ndarray):\n",
        "    img = np.invert(img) / 255\n",
        "    neuralNetwork.input_layer = np.reshape(img, (784, 1))\n",
        "    prediction = neuralNetwork.get_prediction_sample_data()\n",
        "    \n",
        "    print(\"Tipp: \"+str(int(prediction)))"
      ],
      "metadata": {
        "id": "C2HrS6hbZZAQ"
      },
      "execution_count": null,
      "outputs": []
    },
    {
      "cell_type": "code",
      "source": [
        "from google.colab.patches import cv2_imshow\n",
        "import cv2\n",
        "img = cv2.imread('1.png', cv2.IMREAD_UNCHANGED)[:,:,0]\n",
        "cv2_imshow(img)\n",
        "test_own_samples(img)"
      ],
      "metadata": {
        "colab": {
          "base_uri": "https://localhost:8080/",
          "height": 63
        },
        "id": "gjv1l59Pg_Do",
        "outputId": "6e47bdb4-6cff-4782-c555-b67fac1b3404"
      },
      "execution_count": null,
      "outputs": [
        {
          "output_type": "display_data",
          "data": {
            "text/plain": [
              "<PIL.Image.Image image mode=L size=28x28 at 0x7F14C3DC6190>"
            ],
            "image/png": "[encoded data removed]"
          },
          "metadata": {}
        },
        {
          "output_type": "stream",
          "name": "stdout",
          "text": [
            "Tipp: 1\n"
          ]
        }
      ]
    }
  ]
}